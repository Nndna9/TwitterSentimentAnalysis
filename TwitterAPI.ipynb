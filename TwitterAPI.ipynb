{
  "nbformat": 4,
  "nbformat_minor": 0,
  "metadata": {
    "colab": {
      "provenance": []
    },
    "kernelspec": {
      "name": "python3",
      "display_name": "Python 3"
    },
    "language_info": {
      "name": "python"
    }
  },
  "cells": [
    {
      "cell_type": "code",
      "execution_count": 1,
      "metadata": {
        "id": "VpkrtlYAIeBa"
      },
      "outputs": [],
      "source": [
        "import tweepy #to access the twitter api\n",
        "import pandas as pd #for basic data operations"
      ]
    },
    {
      "cell_type": "code",
      "source": [
        "# Importing the keys from twitter api\n",
        "consumerKey = \"xxxxxxxxxxxxxxxxxxxx\"\n",
        "consumerSecret = \"xxxxxxxxxxxxxxxxxxxx\"\n",
        "accessToken = \"xxxxxxxxxxxxxxxxxxxx\"\n",
        "accessTokenSecret = \"xxxxxxxxxxxxxxxxxxxx\""
      ],
      "metadata": {
        "id": "UsO4H8LGIkun"
      },
      "execution_count": 2,
      "outputs": []
    },
    {
      "cell_type": "code",
      "source": [
        "# Establish the connection with twitter API\n",
        "auth = tweepy.OAuthHandler(consumerKey, consumerSecret)\n",
        "auth.set_access_token(accessToken, accessTokenSecret)\n",
        "api = tweepy.API(auth)"
      ],
      "metadata": {
        "id": "_VAMrxQfInb7"
      },
      "execution_count": 3,
      "outputs": []
    },
    {
      "cell_type": "code",
      "source": [
        "# Search for the Term and define number of tweets\n",
        "searchTerm = input(\"Enter Keyword/Tag to search about: \")\n",
        "NoOfTerms = int(input(\"Enter how many tweets to search: \"))"
      ],
      "metadata": {
        "colab": {
          "base_uri": "https://localhost:8080/"
        },
        "id": "nfN66T40Iq48",
        "outputId": "58e20519-34c9-43ad-acef-9baaed1475d8"
      },
      "execution_count": 4,
      "outputs": [
        {
          "name": "stdout",
          "output_type": "stream",
          "text": [
            "Enter Keyword/Tag to search about: instagram\n",
            "Enter how many tweets to search: 100\n"
          ]
        }
      ]
    },
    {
      "cell_type": "code",
      "source": [],
      "metadata": {
        "id": "g4xRpyZtKwz0"
      },
      "execution_count": null,
      "outputs": []
    },
    {
      "cell_type": "code",
      "source": [
        "# Get no of tweets and searched term together\n",
        "tweets = tweepy.Cursor(api.search, q=searchTerm).items(NoOfTerms)"
      ],
      "metadata": {
        "colab": {
          "base_uri": "https://localhost:8080/",
          "height": 158
        },
        "id": "5Sc8x7-6IxiD",
        "outputId": "c5419a89-7230-4ff1-9f87-8efad4908eac"
      },
      "execution_count": 6,
      "outputs": [
        {
          "output_type": "error",
          "ename": "AttributeError",
          "evalue": "'API' object has no attribute 'search'",
          "traceback": [
            "\u001b[0;31m---------------------------------------------------------------------------\u001b[0m",
            "\u001b[0;31mAttributeError\u001b[0m                            Traceback (most recent call last)",
            "\u001b[0;32m<ipython-input-6-49cb2cad73a5>\u001b[0m in \u001b[0;36m<cell line: 2>\u001b[0;34m()\u001b[0m\n\u001b[1;32m      1\u001b[0m \u001b[0;31m# Get no of tweets and searched term together\u001b[0m\u001b[0;34m\u001b[0m\u001b[0;34m\u001b[0m\u001b[0m\n\u001b[0;32m----> 2\u001b[0;31m \u001b[0mtweets\u001b[0m \u001b[0;34m=\u001b[0m \u001b[0mtweepy\u001b[0m\u001b[0;34m.\u001b[0m\u001b[0mCursor\u001b[0m\u001b[0;34m(\u001b[0m\u001b[0mapi\u001b[0m\u001b[0;34m.\u001b[0m\u001b[0msearch\u001b[0m\u001b[0;34m,\u001b[0m \u001b[0mq\u001b[0m\u001b[0;34m=\u001b[0m\u001b[0msearchTerm\u001b[0m\u001b[0;34m)\u001b[0m\u001b[0;34m.\u001b[0m\u001b[0mitems\u001b[0m\u001b[0;34m(\u001b[0m\u001b[0mNoOfTerms\u001b[0m\u001b[0;34m)\u001b[0m\u001b[0;34m\u001b[0m\u001b[0;34m\u001b[0m\u001b[0m\n\u001b[0m",
            "\u001b[0;31mAttributeError\u001b[0m: 'API' object has no attribute 'search'"
          ]
        }
      ]
    }
  ]
}